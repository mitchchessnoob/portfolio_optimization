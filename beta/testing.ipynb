{
 "cells": [
  {
   "cell_type": "code",
   "execution_count": 35,
   "metadata": {},
   "outputs": [],
   "source": [
    "import numpy as np\n",
    "import pandas as pd\n",
    "import yfinance as yf\n",
    "import os\n",
    "import matplotlib.pyplot as plt\n",
    "import datetime as dt\n",
    "from sklearn.preprocessing import MinMaxScaler"
   ]
  },
  {
   "cell_type": "code",
   "execution_count": 36,
   "metadata": {},
   "outputs": [
    {
     "name": "stderr",
     "output_type": "stream",
     "text": [
      "[*********************100%***********************]  2 of 2 completed\n",
      "c:\\Users\\m.narese\\Desktop\\THESIS\\REPO\\portfolio_optimization\\beta\\data\\utils.py:21: FutureWarning: The previous implementation of stack is deprecated and will be removed in a future version of pandas. See the What's New notes for pandas 2.1.0 for details. Specify future_stack=True to adopt the new implementation and silence this warning.\n",
      "  data = data.stack(level=0).reset_index()\n"
     ]
    }
   ],
   "source": [
    "from data.utils import download_data_yf\n",
    "from environment.Market import Market\n",
    "tickers = [\"AAPL\", \"MSFT\"]\n",
    "start_date = \"2020-01-01\"\n",
    "end_date = \"2024-01-01\"\n",
    "\n",
    "\n",
    "\n",
    "data = download_data_yf(tickers=tickers, start_date=start_date, end_date=end_date)\n",
    "\n",
    "mkt = Market(data, 2, dt.datetime(2021, 5, 5))"
   ]
  },
  {
   "cell_type": "code",
   "execution_count": 37,
   "metadata": {},
   "outputs": [
    {
     "ename": "AttributeError",
     "evalue": "'Market' object has no attribute 'today'",
     "output_type": "error",
     "traceback": [
      "\u001b[1;31m---------------------------------------------------------------------------\u001b[0m",
      "\u001b[1;31mAttributeError\u001b[0m                            Traceback (most recent call last)",
      "Cell \u001b[1;32mIn[37], line 1\u001b[0m\n\u001b[1;32m----> 1\u001b[0m \u001b[43mmkt\u001b[49m\u001b[38;5;241;43m.\u001b[39;49m\u001b[43mtoday\u001b[49m()\n",
      "\u001b[1;31mAttributeError\u001b[0m: 'Market' object has no attribute 'today'"
     ]
    }
   ],
   "source": [
    "mkt.today()"
   ]
  },
  {
   "cell_type": "code",
   "execution_count": 3,
   "metadata": {},
   "outputs": [
    {
     "name": "stdout",
     "output_type": "stream",
     "text": [
      "          Date  AAPL_pct_change  MSFT_pct_change\n",
      "0   2010-01-04              NaN              NaN\n",
      "1   2010-01-05         0.001729         0.000323\n",
      "2   2010-01-06        -0.015906        -0.006137\n",
      "3   2010-01-07        -0.001849        -0.010399\n",
      "4   2010-01-08         0.006648         0.006897\n",
      "..         ...              ...              ...\n",
      "499 2011-12-23         0.011993         0.008524\n",
      "500 2011-12-27         0.007934         0.000384\n",
      "501 2011-12-28        -0.009569        -0.008448\n",
      "502 2011-12-29         0.006159         0.007746\n",
      "503 2011-12-30        -0.000296        -0.002306\n",
      "\n",
      "[504 rows x 3 columns]\n"
     ]
    }
   ],
   "source": [
    "\n",
    "\n",
    "data['Date'] = pd.to_datetime(data['Date'])\n",
    "data = data.sort_values(by=['Ticker', 'Date'])\n",
    "\n",
    "# Group by Ticker and calculate percentage change\n",
    "data['Pct_Change'] = data.groupby('Ticker')['Close'].pct_change()\n",
    "\n",
    "# Pivot the DataFrame to get tickers as columns\n",
    "pivoted_data = data.pivot(index='Date', columns='Ticker', values='Pct_Change')\n",
    "\n",
    "# Optional: Rename columns to include \"_pct_change\" for clarity\n",
    "pivoted_data.columns = [f\"{ticker}_pct_change\" for ticker in pivoted_data.columns]\n",
    "\n",
    "# Reset the index if needed\n",
    "pivoted_data.reset_index(inplace=True)\n",
    "\n",
    "print(pivoted_data)"
   ]
  },
  {
   "cell_type": "code",
   "execution_count": 4,
   "metadata": {},
   "outputs": [
    {
     "data": {
      "text/html": [
       "<div>\n",
       "<style scoped>\n",
       "    .dataframe tbody tr th:only-of-type {\n",
       "        vertical-align: middle;\n",
       "    }\n",
       "\n",
       "    .dataframe tbody tr th {\n",
       "        vertical-align: top;\n",
       "    }\n",
       "\n",
       "    .dataframe thead th {\n",
       "        text-align: right;\n",
       "    }\n",
       "</style>\n",
       "<table border=\"1\" class=\"dataframe\">\n",
       "  <thead>\n",
       "    <tr style=\"text-align: right;\">\n",
       "      <th>Price</th>\n",
       "      <th>Date</th>\n",
       "      <th>Ticker</th>\n",
       "      <th>Open</th>\n",
       "      <th>High</th>\n",
       "      <th>Low</th>\n",
       "      <th>Close</th>\n",
       "      <th>Volume</th>\n",
       "      <th>Pct_Change</th>\n",
       "    </tr>\n",
       "  </thead>\n",
       "  <tbody>\n",
       "    <tr>\n",
       "      <th>2</th>\n",
       "      <td>2010-01-05</td>\n",
       "      <td>AAPL</td>\n",
       "      <td>6.465187</td>\n",
       "      <td>6.495012</td>\n",
       "      <td>6.424515</td>\n",
       "      <td>6.458559</td>\n",
       "      <td>601904800</td>\n",
       "      <td>0.001729</td>\n",
       "    </tr>\n",
       "    <tr>\n",
       "      <th>4</th>\n",
       "      <td>2010-01-06</td>\n",
       "      <td>AAPL</td>\n",
       "      <td>6.458559</td>\n",
       "      <td>6.484167</td>\n",
       "      <td>6.349199</td>\n",
       "      <td>6.355827</td>\n",
       "      <td>552160000</td>\n",
       "      <td>-0.015906</td>\n",
       "    </tr>\n",
       "  </tbody>\n",
       "</table>\n",
       "</div>"
      ],
      "text/plain": [
       "Price       Date Ticker      Open      High       Low     Close     Volume  \\\n",
       "2     2010-01-05   AAPL  6.465187  6.495012  6.424515  6.458559  601904800   \n",
       "4     2010-01-06   AAPL  6.458559  6.484167  6.349199  6.355827  552160000   \n",
       "\n",
       "Price  Pct_Change  \n",
       "2        0.001729  \n",
       "4       -0.015906  "
      ]
     },
     "execution_count": 4,
     "metadata": {},
     "output_type": "execute_result"
    }
   ],
   "source": [
    "data[1:3]"
   ]
  },
  {
   "cell_type": "code",
   "execution_count": 5,
   "metadata": {},
   "outputs": [],
   "source": [
    "wf = 30\n",
    "x_train = []\n",
    "y_train = []\n",
    "for company in data[\"Ticker\"].unique():\n",
    "    data_company = data[data[\"Ticker\"] == company]\n",
    "    for i in range(wf, len(data_company)):\n",
    "        x_train.append(data_company[i-wf:i][[\"Open\", \"High\", \"Low\", \"Close\", \"Volume\"]])\n",
    "        y_train.append(data_company[i:i+1][\"Close\"])\n",
    "\n",
    "x_train, y_train = np.array(x_train), np.array(y_train)\n",
    "\n",
    "# Reshape x_train to a 3D array with the appropriate dimensions for the LSTM model\n",
    "x_train = np.reshape(x_train, (x_train.shape[0], x_train.shape[1], 5))\n"
   ]
  },
  {
   "cell_type": "code",
   "execution_count": 6,
   "metadata": {},
   "outputs": [
    {
     "data": {
      "text/plain": [
       "((948, 30, 5), (948, 1))"
      ]
     },
     "execution_count": 6,
     "metadata": {},
     "output_type": "execute_result"
    }
   ],
   "source": [
    "x_train.shape, y_train.shape"
   ]
  },
  {
   "cell_type": "code",
   "execution_count": null,
   "metadata": {},
   "outputs": [],
   "source": [
    "\n",
    "def LSTM_model():\n",
    "    \"\"\"\n",
    "    Create and configure an LSTM model for stock price prediction.\n",
    "\n",
    "    :return: The configured LSTM model (keras.Sequential)\n",
    "    \"\"\"\n",
    "\n",
    "    # Initialize a sequential model\n",
    "    model = Sequential()\n",
    "\n",
    "    # Add the first LSTM layer with 50 units, input shape, and return sequences\n",
    "    model.add(LSTM(units=50, return_sequences=True, input_shape=(x_train.shape[1], 5)))\n",
    "    # Add dropout to prevent overfitting\n",
    "    model.add(Dropout(0.2))\n",
    "\n",
    "    # Add a second LSTM layer with 50 units and return sequences\n",
    "    model.add(LSTM(units=50, return_sequences=True))\n",
    "    # Add dropout to prevent overfitting\n",
    "    model.add(Dropout(0.2))\n",
    "\n",
    "    # Add a third LSTM layer with 50 units\n",
    "    model.add(LSTM(units=50))\n",
    "    # Add dropout to prevent overfitting\n",
    "    model.add(Dropout(0.2))\n",
    "\n",
    "    # Add a dense output layer with one unit\n",
    "    model.add(Dense(units=1))\n",
    "\n",
    "    return model"
   ]
  }
 ],
 "metadata": {
  "kernelspec": {
   "display_name": "Python 3",
   "language": "python",
   "name": "python3"
  },
  "language_info": {
   "codemirror_mode": {
    "name": "ipython",
    "version": 3
   },
   "file_extension": ".py",
   "mimetype": "text/x-python",
   "name": "python",
   "nbconvert_exporter": "python",
   "pygments_lexer": "ipython3",
   "version": "3.11.9"
  }
 },
 "nbformat": 4,
 "nbformat_minor": 2
}
